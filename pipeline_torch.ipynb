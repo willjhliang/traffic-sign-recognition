{
  "cells": [
    {
      "cell_type": "markdown",
      "metadata": {
        "colab_type": "text",
        "id": "view-in-github"
      },
      "source": [
        "<a href=\"https://colab.research.google.com/github/willjhliang/traffic-sign-recognition/blob/main/pipeline.ipynb\" target=\"_parent\"><img src=\"https://colab.research.google.com/assets/colab-badge.svg\" alt=\"Open In Colab\"/></a>"
      ]
    },
    {
      "cell_type": "markdown",
      "metadata": {
        "id": "wniuiSo3XwSa"
      },
      "source": [
        "# Setup"
      ]
    },
    {
      "cell_type": "code",
      "execution_count": null,
      "metadata": {
        "id": "eRrDti8n2Vw8"
      },
      "outputs": [],
      "source": [
        "# Download dataset from github repo\n",
        "!git clone --quiet https://github.com/willjhliang/traffic-sign-recognition.git\n",
        "!mv traffic-sign-recognition/* .\n",
        "!rm -r traffic-sign-recognition"
      ]
    },
    {
      "cell_type": "code",
      "execution_count": null,
      "metadata": {
        "id": "bDwc2e3-4pvC"
      },
      "outputs": [],
      "source": [
        "from copy import deepcopy\n",
        "import itertools\n",
        "from tqdm import tqdm\n",
        "\n",
        "import numpy as np\n",
        "import pandas as pd\n",
        "from matplotlib import pyplot as plt\n",
        "plt.style.use('seaborn-whitegrid')\n",
        "\n",
        "from sklearn.linear_model import LogisticRegression \n",
        "from sklearn.model_selection import KFold\n",
        "from sklearn.base import clone\n",
        "from sklearn.neighbors import KNeighborsClassifier\n",
        "from sklearn.ensemble import AdaBoostClassifier\n",
        "from sklearn.tree import DecisionTreeClassifier\n",
        "from sklearn.svm import SVC\n",
        "import xgboost as xgb\n",
        "\n",
        "import torch\n",
        "from torch import Tensor\n",
        "from torch import nn\n",
        "from torch import optim\n",
        "from torch.utils import data\n",
        "import torchvision\n",
        "\n",
        "from constants import K, S, class_size, validation_ratio, random_seed\n",
        "from data import load_data, consolidate_data, split_validation, visualize_data, compare_class_dist\n",
        "from augment import augment_dataset, visualize_augmentation\n",
        "from dimensionality_reduction import run_pca, visualize_pca, visualize_pca_per_channel\n",
        "from torch_utils import load_torch_data, train_model, evaluate_model\n",
        "from evaluation import generate_confusion_matrix, get_classification_report, generate_class_comparison"
      ]
    },
    {
      "cell_type": "markdown",
      "metadata": {
        "id": "FaaChV3Way94"
      },
      "source": [
        "# Dataset"
      ]
    },
    {
      "cell_type": "code",
      "execution_count": null,
      "metadata": {
        "id": "Br0-GXCA4rts"
      },
      "outputs": [],
      "source": [
        "train_data = load_data('data/filtered_images/train')\n",
        "test_data = load_data('data/filtered_images/test')\n",
        "labels = pd.read_csv(\"data/filtered_labels.csv\")"
      ]
    },
    {
      "cell_type": "code",
      "execution_count": null,
      "metadata": {
        "id": "MeVxBPI864JY"
      },
      "outputs": [],
      "source": [
        "visualize_data(train_data)\n",
        "compare_class_dist(train_data, test_data)"
      ]
    },
    {
      "cell_type": "code",
      "execution_count": null,
      "metadata": {
        "id": "nt5sG5QiHtzk"
      },
      "outputs": [],
      "source": [
        "original_train_data = deepcopy(train_data)\n",
        "train_data = augment_dataset(train_data)\n",
        "compare_class_dist(original_train_data, train_data)"
      ]
    },
    {
      "cell_type": "code",
      "execution_count": null,
      "metadata": {
        "id": "MTT4G6q63fp6"
      },
      "outputs": [],
      "source": [
        "X_train, X_train_flattened, y_train = consolidate_data(train_data)\n",
        "X_test, X_test_flattened, y_test = consolidate_data(test_data)\n",
        "\n",
        "print(f'X_train shape: {X_train.shape}')\n",
        "print(f'X_train_flattened shape: {X_train_flattened.shape}')\n",
        "print(f'X_test shape: {X_test.shape}')"
      ]
    },
    {
      "attachments": {},
      "cell_type": "markdown",
      "metadata": {
        "id": "zUuXolGt5JZ-"
      },
      "source": [
        "# Models"
      ]
    },
    {
      "cell_type": "markdown",
      "metadata": {
        "id": "UPCS7NeYjxn1"
      },
      "source": [
        "## Dense Neural Network"
      ]
    },
    {
      "cell_type": "code",
      "execution_count": null,
      "metadata": {
        "id": "kXZT0kN1c0JU"
      },
      "outputs": [],
      "source": [
        "class NN(nn.Module):\n",
        "    def __init__(self):\n",
        "        super().__init__()\n",
        "        self.layer1 = nn.Linear(32 * 32 * 3, 128)\n",
        "        self.layer2 = nn.Linear(128, 64)\n",
        "        self.out_layer = nn.Linear(64, K)\n",
        "        self.relu = nn.ReLU()\n",
        "    \n",
        "    def forward(self, x):\n",
        "        x = self.relu(self.layer1(x))\n",
        "        x = self.relu(self.layer2(x))\n",
        "        x = self.out_layer(x)\n",
        "        return x"
      ]
    },
    {
      "cell_type": "markdown",
      "metadata": {
        "id": "xsattGC-jzYw"
      },
      "source": [
        "## Convolutional Neural Network"
      ]
    },
    {
      "cell_type": "code",
      "execution_count": null,
      "metadata": {
        "id": "4CB0H8YxKTnl"
      },
      "outputs": [],
      "source": [
        "class CNN(nn.Module):\n",
        "    def __init__(self):\n",
        "        super(CNN, self).__init__()\n",
        "        self.relu = nn.ReLU()\n",
        "        self.max_pool2d = nn.MaxPool2d(kernel_size=2, stride=2)\n",
        "        self.flatten = nn.Flatten()\n",
        "        self.conv_1 = nn.Conv2d(in_channels=3, out_channels=32, kernel_size=3, stride=1, padding=1)\n",
        "        self.batch_norm_1 = nn.BatchNorm2d(32)\n",
        "        self.conv_2 = nn.Conv2d(in_channels=32, out_channels=32, kernel_size=3, stride=1, padding=1)\n",
        "        self.batch_norm_2 = nn.BatchNorm2d(32)\n",
        "        self.conv_3 = nn.Conv2d(in_channels=32, out_channels=64, kernel_size=3, stride=1, padding=1)\n",
        "        self.batch_norm_3 = nn.BatchNorm2d(64)\n",
        "        self.conv_4 = nn.Conv2d(in_channels=64, out_channels=64, kernel_size=3, stride=1, padding=1)\n",
        "        self.batch_norm_4 = nn.BatchNorm2d(64)\n",
        "        self.dropout_1 = nn.Dropout(0.5)\n",
        "        self.conv_5 = nn.Conv2d(in_channels=64, out_channels=64, kernel_size=3, stride=1, padding=1)\n",
        "        self.batch_norm_5 = nn.BatchNorm2d(64)\n",
        "        self.conv_6 = nn.Conv2d(in_channels=64, out_channels=64, kernel_size=3, stride=1, padding=1)\n",
        "        self.batch_norm_6 = nn.BatchNorm2d(64)\n",
        "        self.dropout_2 = nn.Dropout(0.5)\n",
        "        self.linear_1 = nn.Linear(4 * 4 * 64, 128)\n",
        "        self.dropout_3 = nn.Dropout(0.25)\n",
        "        self.linear_2 = nn.Linear(128, K)\n",
        "\n",
        "    def forward(self, x):\n",
        "        x = self.relu(self.batch_norm_1(self.conv_1(x)))\n",
        "        x = self.relu(self.batch_norm_2(self.conv_2(x)))\n",
        "        x = self.max_pool2d(x)\n",
        "        x = self.relu(self.batch_norm_3(self.conv_3(x)))\n",
        "        x = self.relu(self.batch_norm_4(self.conv_4(x)))\n",
        "        x = self.dropout_1(x)\n",
        "        x = self.max_pool2d(x)\n",
        "        x = self.relu(self.batch_norm_5(self.conv_5(x)))\n",
        "        x = self.relu(self.batch_norm_6(self.conv_6(x)))\n",
        "        x = self.dropout_2(x)\n",
        "        x = self.max_pool2d(x)\n",
        "        x = self.flatten(x)\n",
        "        x = self.relu(self.linear_1(x))\n",
        "        x = self.dropout_3(x)\n",
        "        x = self.linear_2(x)\n",
        "        return x"
      ]
    },
    {
      "attachments": {},
      "cell_type": "markdown",
      "metadata": {
        "id": "jI9lT-q-kteU"
      },
      "source": [
        "# Transfer Learning"
      ]
    },
    {
      "cell_type": "code",
      "execution_count": null,
      "metadata": {
        "id": "LCCV5sIrH-Rq"
      },
      "outputs": [],
      "source": [
        "def Resnet():\n",
        "    model = torchvision.models.resnet18(pretrained=True)\n",
        "    for param in model.parameters():\n",
        "        param.requires_grad = False\n",
        "    \n",
        "    num_ftrs = model.fc.in_features\n",
        "    model.fc = nn.Linear(num_ftrs, K)\n",
        "    return model"
      ]
    },
    {
      "cell_type": "code",
      "execution_count": null,
      "metadata": {
        "id": "0Xq-iQwNfbKq"
      },
      "outputs": [],
      "source": [
        "def VGG16():\n",
        "    model = torchvision.models.vgg16(pretrained=True)\n",
        "    for param in model.parameters():\n",
        "        param.requires_grad = False\n",
        "    \n",
        "    num_ftrs = model.classifier[-1].in_features\n",
        "    model.classifier[-1] = nn.Linear(num_ftrs, K)\n",
        "    return model"
      ]
    },
    {
      "cell_type": "code",
      "execution_count": null,
      "metadata": {
        "id": "IDWWGFp6kW8c"
      },
      "outputs": [],
      "source": [
        "def EfficientNet():\n",
        "    model = torchvision.models.efficientnet_b0(pretrained=True)\n",
        "    for param in model.parameters():\n",
        "        param.requires_grad = False\n",
        "\n",
        "    num_ftrs = model.classifier[-1].in_features\n",
        "    model.classifier[-1] = nn.Linear(num_ftrs, K)\n",
        "    return model"
      ]
    },
    {
      "cell_type": "code",
      "execution_count": null,
      "metadata": {
        "id": "RxTjUA2PYJoR"
      },
      "outputs": [],
      "source": [
        "class UpscaleDataset(torch.utils.data.Dataset):\n",
        "    def __init__(self, X, y, transform):\n",
        "        self.X = X\n",
        "        self.y = y\n",
        "        self.transform = transform\n",
        "    \n",
        "    def __len__(self):\n",
        "        return self.X.shape[0]\n",
        "    \n",
        "    def __getitem__(self, idx):\n",
        "        if torch.is_tensor(idx):\n",
        "            idx = idx.numpy()\n",
        "        img = self.transform(torch.from_numpy(self.X[idx].astype(np.float32)))\n",
        "        label = torch.tensor(self.y[idx])\n",
        "\n",
        "        return img, label\n",
        "\n",
        "\n",
        "def load_vit_data(X_train, y_train, X_test, y_test):\n",
        "    X_train, X_val, y_train, y_val = split_validation(X_train, y_train)\n",
        "    transform = torchvision.transforms.Resize((224, 224))\n",
        "    train_set = UpscaleDataset(X_train, y_train, transform)\n",
        "    val_set = UpscaleDataset(X_val, y_val, transform)\n",
        "    test_set = UpscaleDataset(X_test, y_test, transform)\n",
        "    train_loader = data.DataLoader(train_set, batch_size=32, shuffle=True)\n",
        "    val_loader = data.DataLoader(val_set, batch_size=32, shuffle=True)\n",
        "    test_loader = data.DataLoader(test_set, batch_size=32, shuffle=True)\n",
        "    return train_loader, val_loader, test_loader\n",
        "\n",
        "\n",
        "def VisionTransformer():\n",
        "    model = torchvision.models.vit_b_16(pretrained=True)\n",
        "    for param in model.parameters():\n",
        "        param.requires_grad = False\n",
        "\n",
        "    num_ftrs = model.heads[-1].in_features\n",
        "    model.heads[-1] = nn.Linear(num_ftrs, K)\n",
        "    return model"
      ]
    },
    {
      "attachments": {},
      "cell_type": "markdown",
      "metadata": {
        "id": "jLYfefMU_GtW"
      },
      "source": [
        "# Training and Evaluation"
      ]
    },
    {
      "cell_type": "code",
      "execution_count": null,
      "metadata": {
        "id": "o-ANqgbYpuf8"
      },
      "outputs": [],
      "source": [
        "print('========== Dense Neural Network ==========')\n",
        "train_loader, val_loader, test_loader = load_torch_data(X_train_flattened, y_train, X_test_flattened, y_test)\n",
        "model = train_model(NN(), train_loader, val_loader, 10, 1e-3)\n",
        "y_pred_nn, acc = evaluate_model(model, test_loader)\n",
        "print(f'Test Accuracy: {acc}')"
      ]
    },
    {
      "cell_type": "code",
      "execution_count": null,
      "metadata": {
        "id": "2MpYJcA1QO1L"
      },
      "outputs": [],
      "source": [
        "nn_reportdict, nn_df = get_classification_report(y_test, y_pred_nn, labels)\n",
        "generate_class_comparison(nn_reportdict, 'f1-score', labels)"
      ]
    },
    {
      "cell_type": "code",
      "execution_count": null,
      "metadata": {
        "id": "TW26cz3ipNWi"
      },
      "outputs": [],
      "source": [
        "print('========== Convolutional Neural Network ==========')\n",
        "train_loader, val_loader, test_loader = load_torch_data(X_train, y_train, X_test, y_test)\n",
        "model = train_model(CNN(), train_loader, val_loader, 10, 1e-3)\n",
        "y_pred_cnn, accuracy = evaluate_model(model, test_loader)\n",
        "print(f'Test Accuracy: {accuracy}')"
      ]
    },
    {
      "cell_type": "code",
      "execution_count": null,
      "metadata": {
        "id": "SxZxBp3VQTzF"
      },
      "outputs": [],
      "source": [
        "cnn_reportdict, cnn_df = get_classification_report(y_test, y_pred_cnn, labels)\n",
        "generate_class_comparison(cnn_reportdict, 'f1-score', labels)"
      ]
    },
    {
      "cell_type": "code",
      "execution_count": null,
      "metadata": {
        "id": "AJHgtXPfJD_G"
      },
      "outputs": [],
      "source": [
        "print('========== Transfer Learning Resnet ==========')\n",
        "train_loader, val_loader, test_loader = load_torch_data(X_train, y_train, X_test, y_test)\n",
        "model = train_model(Resnet(), train_loader, val_loader, 10, 1e-3)\n",
        "y_pred_res, accuracy = evaluate_model(model, test_loader)\n",
        "print(f'Test Accuracy: {accuracy}')"
      ]
    },
    {
      "cell_type": "code",
      "execution_count": null,
      "metadata": {
        "id": "4uJASPUhQVCs"
      },
      "outputs": [],
      "source": [
        "res_reportdict, res_df = get_classification_report(y_test, y_pred_res, labels)\n",
        "generate_class_comparison(res_reportdict, 'f1-score', labels)"
      ]
    },
    {
      "cell_type": "code",
      "execution_count": null,
      "metadata": {
        "id": "IY5y1LM7fhqh"
      },
      "outputs": [],
      "source": [
        "print('========== Transfer Learning VGG16 ==========')\n",
        "train_loader, val_loader, test_loader = load_torch_data(X_train, y_train, X_test, y_test)\n",
        "model = train_model(VGG16(), train_loader, val_loader, 10, 1e-3)\n",
        "y_pred_vgg, accuracy = evaluate_model(model, test_loader)\n",
        "print(f'Test Accuracy: {accuracy}')"
      ]
    },
    {
      "cell_type": "code",
      "execution_count": null,
      "metadata": {
        "id": "oyAEA0qTQWrZ"
      },
      "outputs": [],
      "source": [
        "vgg_reportdict, vgg_df = get_classification_report(y_test, y_pred_vgg, labels)\n",
        "generate_class_comparison(vgg_reportdict, 'f1-score', labels)"
      ]
    },
    {
      "cell_type": "code",
      "execution_count": null,
      "metadata": {
        "id": "7cANkVqwmbCz"
      },
      "outputs": [],
      "source": [
        "print('========== Transfer Learning EfficientNet ==========')\n",
        "train_loader, val_loader, test_loader = load_torch_data(X_train, y_train, X_test, y_test)\n",
        "model = train_model(EfficientNet(), train_loader, val_loader, 10, 1e-3)\n",
        "y_pred_eff, accuracy = evaluate_model(model, test_loader)\n",
        "print(f'Test Accuracy: {accuracy}')"
      ]
    },
    {
      "cell_type": "code",
      "execution_count": null,
      "metadata": {
        "id": "WZOU_KOTQXx0"
      },
      "outputs": [],
      "source": [
        "eff_reportdict, eff_df = get_classification_report(y_test, y_pred_eff, labels)\n",
        "generate_class_comparison(eff_reportdict, 'f1-score', labels)"
      ]
    },
    {
      "cell_type": "code",
      "execution_count": null,
      "metadata": {
        "id": "Go4AAClYYQ2e"
      },
      "outputs": [],
      "source": [
        "print('========== Transfer Learning Vision Transformer ==========')\n",
        "train_loader, val_loader, test_loader = load_vit_data(X_train, y_train, X_test, y_test)\n",
        "model = train_model(VisionTransformer(), train_loader, val_loader, 10, 1e-3)\n",
        "y_pred_vit, accuracy = evaluate_model(model, test_loader)\n",
        "print(f'Test Accuracy: {accuracy}')"
      ]
    },
    {
      "cell_type": "code",
      "execution_count": null,
      "metadata": {
        "id": "MSXj0LW7YUxp"
      },
      "outputs": [],
      "source": [
        "vit_reportdict, vit_df = get_classification_report(y_test, y_pred_vit, labels)\n",
        "generate_class_comparison(vit_reportdict, 'f1-score', labels)"
      ]
    }
  ],
  "metadata": {
    "accelerator": "GPU",
    "colab": {
      "include_colab_link": true,
      "private_outputs": true,
      "provenance": [],
      "toc_visible": true
    },
    "gpuClass": "standard",
    "kernelspec": {
      "display_name": "pytorch",
      "language": "python",
      "name": "python3"
    },
    "language_info": {
      "codemirror_mode": {
        "name": "ipython",
        "version": 3
      },
      "file_extension": ".py",
      "mimetype": "text/x-python",
      "name": "python",
      "nbconvert_exporter": "python",
      "pygments_lexer": "ipython3",
      "version": "3.8.13 | packaged by conda-forge | (default, Mar 25 2022, 06:05:16) \n[Clang 12.0.1 ]"
    },
    "vscode": {
      "interpreter": {
        "hash": "d53f40f7b23e64941bbbe7d59a7d348ea20d4e2d35ce7e2b267b19a1ca57345e"
      }
    }
  },
  "nbformat": 4,
  "nbformat_minor": 0
}
