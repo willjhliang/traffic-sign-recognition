{
  "nbformat": 4,
  "nbformat_minor": 0,
  "metadata": {
    "colab": {
      "provenance": [],
      "authorship_tag": "ABX9TyMhQ2IiSS7mAjqDTfPSfkSh",
      "include_colab_link": true
    },
    "kernelspec": {
      "name": "python3",
      "display_name": "Python 3"
    },
    "language_info": {
      "name": "python"
    }
  },
  "cells": [
    {
      "cell_type": "markdown",
      "metadata": {
        "id": "view-in-github",
        "colab_type": "text"
      },
      "source": [
        "<a href=\"https://colab.research.google.com/github/willjhliang/traffic-sign-recognition/blob/main/clean_classes.ipynb\" target=\"_parent\"><img src=\"https://colab.research.google.com/assets/colab-badge.svg\" alt=\"Open In Colab\"/></a>"
      ]
    },
    {
      "cell_type": "code",
      "execution_count": 51,
      "metadata": {
        "id": "w6V8puTbyPNy",
        "colab": {
          "base_uri": "https://localhost:8080/"
        },
        "outputId": "c1ce2ba7-66e9-4012-8ac0-bcca5955f70b"
      },
      "outputs": [
        {
          "output_type": "stream",
          "name": "stdout",
          "text": [
            "mv: cannot move 'traffic-sign-recognition/data' to './data': Directory not empty\n"
          ]
        }
      ],
      "source": [
        "!git clone --quiet https://github.com/willjhliang/traffic-sign-recognition.git\n",
        "!mv traffic-sign-recognition/data .\n",
        "!rm -r traffic-sign-recognition"
      ]
    },
    {
      "cell_type": "code",
      "source": [
        "import os\n",
        "import numpy as np\n",
        "from PIL import Image\n",
        "import csv\n",
        "\n",
        "\n",
        "K = 58"
      ],
      "metadata": {
        "id": "QZ3fBQBNypDA"
      },
      "execution_count": 52,
      "outputs": []
    },
    {
      "cell_type": "code",
      "source": [
        "def clean_data(datapath):\n",
        "    \"\"\"Loads images from files and performs basic pre-processing.\"\"\"\n",
        "    classFreq = []\n",
        "    data = {}\n",
        "    with open('data/labels.csv') as f:\n",
        "        reader = csv.DictReader(f)\n",
        "        labels = list(reader)\n",
        "    new_labels = []\n",
        "    for k in range(K):\n",
        "        data[k] = []\n",
        "        classFreq.append(0)\n",
        "\n",
        "    os.mkdir('data/filtered_images')\n",
        "\n",
        "    for f in os.listdir(datapath):\n",
        "        k = int(f[:3])  # Get label from filename\n",
        "        classFreq[k] = classFreq[k] + 1\n",
        "        img = Image.open(os.path.join(datapath, f))\n",
        "        data[k].append(img)\n",
        "    \n",
        "    kp = 0\n",
        "    for k in range(K):\n",
        "        if classFreq[k] < 50:\n",
        "            continue\n",
        "        for i, img in enumerate(data[k]):\n",
        "            img.save(f\"data/filtered_images/{kp:03}_{i:03}.png\")\n",
        "        kp += 1\n",
        "        new_labels.append(labels[k])\n",
        "\n",
        "\n",
        "    with open('filtered_labels.csv', 'w') as f2:\n",
        "\n",
        "        writer = csv.writer(f2)\n",
        "\n",
        "        writer.writerow(['ClassId', 'Name'])\n",
        "        for i in range(len(new_labels)):\n",
        "            towrite = [str(i), new_labels[i]['Name']]\n",
        "            writer.writerow(towrite)\n",
        "\n",
        "    return \n"
      ],
      "metadata": {
        "id": "vG7TTErkyli1"
      },
      "execution_count": 62,
      "outputs": []
    },
    {
      "cell_type": "code",
      "source": [
        "clean_data('data/images')"
      ],
      "metadata": {
        "id": "EuQN2qtmyjIs"
      },
      "execution_count": 63,
      "outputs": []
    }
  ]
}