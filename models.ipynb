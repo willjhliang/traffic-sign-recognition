{
  "nbformat": 4,
  "nbformat_minor": 0,
  "metadata": {
    "colab": {
      "private_outputs": true,
      "provenance": [],
      "authorship_tag": "ABX9TyM4PjBpc+MAvIhN1VnXnfAN",
      "include_colab_link": true
    },
    "kernelspec": {
      "name": "python3",
      "display_name": "Python 3"
    },
    "language_info": {
      "name": "python"
    }
  },
  "cells": [
    {
      "cell_type": "markdown",
      "metadata": {
        "id": "view-in-github",
        "colab_type": "text"
      },
      "source": [
        "<a href=\"https://colab.research.google.com/github/willjhliang/traffic-sign-recognition/blob/main/models.ipynb\" target=\"_parent\"><img src=\"https://colab.research.google.com/assets/colab-badge.svg\" alt=\"Open In Colab\"/></a>"
      ]
    },
    {
      "cell_type": "code",
      "execution_count": null,
      "metadata": {
        "id": "eRrDti8n2Vw8"
      },
      "outputs": [],
      "source": [
        "# Download dataset from github repo\n",
        "!rm -r sample_data\n",
        "!git clone https://github.com/willjhliang/traffic-sign-recognition.git\n",
        "!mv traffic-sign-recognition/data .\n",
        "!rm -r traffic-sign-recognition"
      ]
    },
    {
      "cell_type": "code",
      "source": [
        "import os\n",
        "import itertools\n",
        "import numpy as np\n",
        "import pandas as pd\n",
        "from PIL import Image\n",
        "from matplotlib import pyplot as plt\n",
        "\n",
        "from sklearn.neighbors import KNeighborsClassifier"
      ],
      "metadata": {
        "id": "bDwc2e3-4pvC"
      },
      "execution_count": null,
      "outputs": []
    },
    {
      "cell_type": "code",
      "source": [
        "K = 58  # Number of classes"
      ],
      "metadata": {
        "id": "8auRbcGP5jJJ"
      },
      "execution_count": null,
      "outputs": []
    },
    {
      "cell_type": "markdown",
      "source": [
        "# Data Exploration"
      ],
      "metadata": {
        "id": "MjD_ep2c5HUg"
      }
    },
    {
      "cell_type": "code",
      "source": [
        "labels = pd.read_csv(\"data/labels.csv\")\n",
        "\n",
        "train_data = {}\n",
        "datapath = 'data/images/train'\n",
        "for k in range(K):\n",
        "    train_data[k] = []\n",
        "for f in os.listdir(datapath):\n",
        "    k = int(f[:3])\n",
        "    train_data[k].append(Image.open(os.path.join(datapath, f)))\n"
      ],
      "metadata": {
        "id": "Br0-GXCA4rts"
      },
      "execution_count": null,
      "outputs": []
    },
    {
      "cell_type": "code",
      "source": [
        "fig, axs = plt.subplots(6, 10)\n",
        "fig.set_figheight(15)\n",
        "fig.set_figwidth(15)\n",
        "for k, (i, j) in itertools.zip_longest(range(K), list(itertools.product(range(6), range(10))), fillvalue=-1):\n",
        "    axs[i,j].axis('off')\n",
        "    if k >= 0:\n",
        "        axs[i,j].imshow(train_data[k][0])\n"
      ],
      "metadata": {
        "id": "MeVxBPI864JY"
      },
      "execution_count": null,
      "outputs": []
    },
    {
      "cell_type": "code",
      "source": [
        "img_dist = plt.bar(list(range(K)), [len(train_data[k]) for k in range(K)])"
      ],
      "metadata": {
        "id": "w3rniKpZ9gNo"
      },
      "execution_count": null,
      "outputs": []
    },
    {
      "cell_type": "markdown",
      "source": [
        "# Models"
      ],
      "metadata": {
        "id": "zUuXolGt5JZ-"
      }
    },
    {
      "cell_type": "markdown",
      "source": [
        "## Baseline KNN"
      ],
      "metadata": {
        "id": "7WmDtprV5NqM"
      }
    }
  ]
}