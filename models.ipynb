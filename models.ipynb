{
  "nbformat": 4,
  "nbformat_minor": 0,
  "metadata": {
    "colab": {
      "private_outputs": true,
      "provenance": [],
      "include_colab_link": true
    },
    "kernelspec": {
      "name": "python3",
      "display_name": "Python 3"
    },
    "language_info": {
      "name": "python"
    }
  },
  "cells": [
    {
      "cell_type": "markdown",
      "metadata": {
        "id": "view-in-github",
        "colab_type": "text"
      },
      "source": [
        "<a href=\"https://colab.research.google.com/github/willjhliang/traffic-sign-recognition/blob/main/models.ipynb\" target=\"_parent\"><img src=\"https://colab.research.google.com/assets/colab-badge.svg\" alt=\"Open In Colab\"/></a>"
      ]
    },
    {
      "cell_type": "code",
      "execution_count": null,
      "metadata": {
        "id": "eRrDti8n2Vw8"
      },
      "outputs": [],
      "source": [
        "# Download dataset from github repo\n",
        "!rm -r sample_data\n",
        "!git clone https://github.com/willjhliang/traffic-sign-recognition.git\n",
        "!mv traffic-sign-recognition/data .\n",
        "!rm -r traffic-sign-recognition"
      ]
    },
    {
      "cell_type": "code",
      "source": [
        "import os\n",
        "from copy import deepcopy\n",
        "import itertools\n",
        "import numpy as np\n",
        "import pandas as pd\n",
        "from PIL import Image\n",
        "from matplotlib import pyplot as plt\n",
        "\n",
        "from sklearn.neighbors import KNeighborsClassifier\n",
        "from sklearn.model_selection import train_test_split, KFold"
      ],
      "metadata": {
        "id": "bDwc2e3-4pvC"
      },
      "execution_count": null,
      "outputs": []
    },
    {
      "cell_type": "code",
      "source": [
        "K = 58  # Number of classes\n",
        "\n",
        "random_seed = 19104"
      ],
      "metadata": {
        "id": "8auRbcGP5jJJ"
      },
      "execution_count": null,
      "outputs": []
    },
    {
      "cell_type": "markdown",
      "source": [
        "# Data Exploration"
      ],
      "metadata": {
        "id": "MjD_ep2c5HUg"
      }
    },
    {
      "cell_type": "code",
      "source": [
        "def load_data(datapath):\n",
        "    data = {}\n",
        "    for k in range(K):\n",
        "        data[k] = []\n",
        "    for f in os.listdir(datapath):\n",
        "        k = int(f[:3])\n",
        "        img = Image.open(os.path.join(datapath, f)).resize((32, 32))\n",
        "        data[k].append(np.array(img))\n",
        "    return data"
      ],
      "metadata": {
        "id": "Gr29Pwh625Jl"
      },
      "execution_count": null,
      "outputs": []
    },
    {
      "cell_type": "code",
      "source": [
        "labels = pd.read_csv(\"data/labels.csv\")\n",
        "\n",
        "train_data = load_data('data/images/train')\n",
        "test_data = load_data('data/images/test')"
      ],
      "metadata": {
        "id": "Br0-GXCA4rts"
      },
      "execution_count": null,
      "outputs": []
    },
    {
      "cell_type": "code",
      "source": [
        "fig, axs = plt.subplots(6, 10)\n",
        "fig.set_figheight(15)\n",
        "fig.set_figwidth(15)\n",
        "for k, (i, j) in itertools.zip_longest(range(K), list(itertools.product(range(6), range(10))), fillvalue=-1):\n",
        "    axs[i,j].axis('off')\n",
        "    if k >= 0:\n",
        "        axs[i,j].imshow(train_data[k][0])\n"
      ],
      "metadata": {
        "id": "MeVxBPI864JY"
      },
      "execution_count": null,
      "outputs": []
    },
    {
      "cell_type": "code",
      "source": [
        "img_dist = plt.bar(list(range(K)), [len(train_data[k]) for k in range(K)])"
      ],
      "metadata": {
        "id": "w3rniKpZ9gNo"
      },
      "execution_count": null,
      "outputs": []
    },
    {
      "cell_type": "code",
      "source": [
        "def prepare_data(data):\n",
        "    X = []\n",
        "    y = []\n",
        "    for k in range(K):\n",
        "        for i in data[k]:\n",
        "            X.append(i)\n",
        "            y.append(k)\n",
        "    \n",
        "    X_flattened = deepcopy(X)\n",
        "    for i in range(len(X_flattened)):\n",
        "        X_flattened[i] = X_flattened[i].flatten()\n",
        "    \n",
        "    X = np.array(X)\n",
        "    X_flattened = np.array(X_flattened)\n",
        "    y = np.array(y)\n",
        "    return X, X_flattened, y"
      ],
      "metadata": {
        "id": "4UVlLK8c3HXn"
      },
      "execution_count": null,
      "outputs": []
    },
    {
      "cell_type": "code",
      "source": [
        "X_train, X_train_flattened, y_train = prepare_data(train_data)\n",
        "X_test, X_test_flattened, y_test = prepare_data(test_data)"
      ],
      "metadata": {
        "id": "MTT4G6q63fp6"
      },
      "execution_count": null,
      "outputs": []
    },
    {
      "cell_type": "markdown",
      "source": [
        "# Models"
      ],
      "metadata": {
        "id": "zUuXolGt5JZ-"
      }
    },
    {
      "cell_type": "markdown",
      "source": [
        "## Baseline KNN"
      ],
      "metadata": {
        "id": "7WmDtprV5NqM"
      }
    },
    {
      "cell_type": "markdown",
      "source": [
        "Train a baseline K-Nearest Neighbors models to classify traffic sign images. Use 10-Fold cross validation to determine the best value of K"
      ],
      "metadata": {
        "id": "NCtWS2CqGgpx"
      }
    },
    {
      "cell_type": "code",
      "source": [
        "kf = KFold(n_splits = 10)\n",
        "best_k = -1\n",
        "best_acc = 0\n",
        "val_accuracies = []\n",
        "\n",
        "for k_neighbors in range(1, 30, 2):\n",
        "    # Iterate through possible values of k from 1 to 30, incrementing by 2\n",
        "\n",
        "    for train_index, val_index in kf.split(X_train_flattened): # Iterate through all 10 folds\n",
        "        total_acc = 0\n",
        "        # Split data into training data and validation data\n",
        "        X_train_fold, X_val_fold = X_train_flattened[train_index], X_train_flattened[val_index]\n",
        "        y_train_fold, y_val_fold = y_train[train_index], y_train[val_index]\n",
        "\n",
        "        # Train KNN model\n",
        "        knn_model = KNeighborsClassifier(n_neighbors=k_neighbors)\n",
        "        knn_model.fit(X_train_fold, y_train_fold)\n",
        "        total_acc = total_acc + knn_model.score(X_val_fold, y_val_fold)\n",
        "    \n",
        "    # Get avg accuracy for the folds for this k value\n",
        "    avg_acc = total_acc / 10\n",
        "    val_accuracies.append(avg_acc)\n",
        "    if avg_acc > best_acc:\n",
        "      best_acc = avg_acc\n",
        "      best_k = k_neighbors\n",
        "    "
      ],
      "metadata": {
        "id": "GokJxe4KGJz_"
      },
      "execution_count": null,
      "outputs": []
    },
    {
      "cell_type": "code",
      "source": [
        "plt.plot(list(range(1, 30, 2)), val_accuracies)\n",
        "plt.show()\n",
        "print(\"Best k: \", best_k)"
      ],
      "metadata": {
        "id": "l69j8GLh4vmE"
      },
      "execution_count": null,
      "outputs": []
    },
    {
      "cell_type": "code",
      "source": [
        "model = KNeighborsClassifier(n_neighbors=best_k)\n",
        "model.fit(X_train_flattened, y_train)\n",
        "model.score(X_test_flattened, y_test)"
      ],
      "metadata": {
        "id": "yGrcavdS2WX1"
      },
      "execution_count": null,
      "outputs": []
    }
  ]
}