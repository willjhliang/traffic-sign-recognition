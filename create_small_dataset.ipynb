{
  "nbformat": 4,
  "nbformat_minor": 0,
  "metadata": {
    "colab": {
      "provenance": [],
      "authorship_tag": "ABX9TyMIAR79wxj2eiDnYaFLTbxK",
      "include_colab_link": true
    },
    "kernelspec": {
      "name": "python3",
      "display_name": "Python 3"
    },
    "language_info": {
      "name": "python"
    }
  },
  "cells": [
    {
      "cell_type": "markdown",
      "metadata": {
        "id": "view-in-github",
        "colab_type": "text"
      },
      "source": [
        "<a href=\"https://colab.research.google.com/github/willjhliang/traffic-sign-recognition/blob/main/create_small_dataset.ipynb\" target=\"_parent\"><img src=\"https://colab.research.google.com/assets/colab-badge.svg\" alt=\"Open In Colab\"/></a>"
      ]
    },
    {
      "cell_type": "code",
      "execution_count": 1,
      "metadata": {
        "id": "ov4x_XKHepMv"
      },
      "outputs": [],
      "source": [
        "!git clone --quiet https://github.com/willjhliang/traffic-sign-recognition.git\n",
        "!mv traffic-sign-recognition/data .\n",
        "!rm -r traffic-sign-recognition"
      ]
    },
    {
      "cell_type": "code",
      "source": [
        "import os\n",
        "import numpy as np\n",
        "from PIL import Image\n",
        "import csv\n",
        "\n",
        "\n",
        "K = 36"
      ],
      "metadata": {
        "id": "QmzmMxtvfHVP"
      },
      "execution_count": 3,
      "outputs": []
    },
    {
      "cell_type": "code",
      "source": [
        "def create_small_dataset(datapath):\n",
        "    \"\"\"Loads images from files and performs basic pre-processing.\"\"\"\n",
        "    data = {}\n",
        "    with open('data/labels.csv') as f:\n",
        "        reader = csv.DictReader(f)\n",
        "        labels = list(reader)\n",
        "    new_labels = []\n",
        "    for k in range(K):\n",
        "        data[k] = []\n",
        "\n",
        "\n",
        "    class_count = [0] * 36\n",
        "\n",
        "    os.mkdir('data/filtered_images/train_small')\n",
        "\n",
        "    for f in os.listdir(datapath):\n",
        "        k = int(f[:3])  # Get label from filename\n",
        "        if class_count[k] < 10:\n",
        "            img = Image.open(os.path.join(datapath, f))\n",
        "            img.save(f\"data/filtered_images/train_small/{f}\")\n",
        "            class_count[k] = class_count[k] + 1\n"
      ],
      "metadata": {
        "id": "hL2RkoRQfJIV"
      },
      "execution_count": 6,
      "outputs": []
    },
    {
      "cell_type": "code",
      "source": [
        "create_small_dataset('data/filtered_images/train')"
      ],
      "metadata": {
        "colab": {
          "base_uri": "https://localhost:8080/"
        },
        "id": "8tDbi6w_fOzN",
        "outputId": "47688079-b454-4c54-fde8-08f7b9b2e11d"
      },
      "execution_count": 8,
      "outputs": [
        {
          "output_type": "stream",
          "name": "stdout",
          "text": [
            "360\n"
          ]
        }
      ]
    }
  ]
}