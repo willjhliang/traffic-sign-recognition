{
  "cells": [
    {
      "cell_type": "markdown",
      "metadata": {
        "colab_type": "text",
        "id": "view-in-github"
      },
      "source": [
        "<a href=\"https://colab.research.google.com/github/willjhliang/traffic-sign-recognition/blob/main/pipeline_cnn_tuning.ipynb\" target=\"_parent\"><img src=\"https://colab.research.google.com/assets/colab-badge.svg\" alt=\"Open In Colab\"/></a>"
      ]
    },
    {
      "cell_type": "markdown",
      "metadata": {
        "id": "wniuiSo3XwSa"
      },
      "source": [
        "# Setup"
      ]
    },
    {
      "cell_type": "code",
      "execution_count": null,
      "metadata": {
        "id": "eRrDti8n2Vw8"
      },
      "outputs": [],
      "source": [
        "# Download dataset from github repo\n",
        "!git clone --quiet https://github.com/willjhliang/traffic-sign-recognition.git\n",
        "!mv traffic-sign-recognition/* .\n",
        "!rm -r traffic-sign-recognition"
      ]
    },
    {
      "cell_type": "code",
      "execution_count": null,
      "metadata": {
        "id": "bDwc2e3-4pvC"
      },
      "outputs": [],
      "source": [
        "from copy import deepcopy\n",
        "import itertools\n",
        "\n",
        "import numpy as np\n",
        "import pandas as pd\n",
        "from matplotlib import pyplot as plt\n",
        "plt.style.use('seaborn-whitegrid')\n",
        "\n",
        "import torch\n",
        "from torch import Tensor\n",
        "from torch import nn\n",
        "from torch import optim\n",
        "from torch.utils import data\n",
        "import torchvision\n",
        "\n",
        "from constants import K, S, class_size, validation_ratio, random_seed\n",
        "from data import load_data, consolidate_data, split_validation, visualize_data, compare_class_dist\n",
        "from augment import augment_dataset, visualize_augmentation\n",
        "from dimensionality_reduction import run_pca, visualize_pca, visualize_pca_per_channel\n",
        "from torch_utils import load_torch_data, train_model, evaluate_model\n",
        "from evaluation import generate_confusion_matrix, get_classification_report, generate_class_comparison"
      ]
    },
    {
      "cell_type": "markdown",
      "metadata": {
        "id": "FaaChV3Way94"
      },
      "source": [
        "# Dataset"
      ]
    },
    {
      "cell_type": "code",
      "execution_count": null,
      "metadata": {
        "id": "Br0-GXCA4rts"
      },
      "outputs": [],
      "source": [
        "train_data = load_data('data/filtered_images/train_small')\n",
        "test_data = load_data('data/filtered_images/test')\n",
        "labels = pd.read_csv(\"data/filtered_labels.csv\")"
      ]
    },
    {
      "cell_type": "code",
      "execution_count": null,
      "metadata": {
        "id": "MeVxBPI864JY"
      },
      "outputs": [],
      "source": [
        "visualize_data(train_data)\n",
        "compare_class_dist(train_data, test_data)"
      ]
    },
    {
      "cell_type": "code",
      "execution_count": null,
      "metadata": {
        "id": "nt5sG5QiHtzk"
      },
      "outputs": [],
      "source": [
        "original_train_data = deepcopy(train_data)\n",
        "train_data = augment_dataset(train_data)\n",
        "compare_class_dist(original_train_data, train_data)"
      ]
    },
    {
      "cell_type": "code",
      "execution_count": null,
      "metadata": {
        "id": "MTT4G6q63fp6"
      },
      "outputs": [],
      "source": [
        "X_train, _, y_train = consolidate_data(train_data)\n",
        "X_test, _, y_test = consolidate_data(test_data)\n",
        "\n",
        "print(f'X_train shape: {X_train.shape}')\n",
        "print(f'X_test shape: {X_test.shape}')"
      ]
    },
    {
      "cell_type": "markdown",
      "metadata": {
        "id": "zUuXolGt5JZ-"
      },
      "source": [
        "# Models"
      ]
    },
    {
      "cell_type": "markdown",
      "metadata": {
        "id": "xsattGC-jzYw"
      },
      "source": [
        "## Convolutional Neural Network Variations"
      ]
    },
    {
      "cell_type": "code",
      "execution_count": null,
      "metadata": {},
      "outputs": [],
      "source": [
        "class CNN_XXS(nn.Module):\n",
        "    def __init__(self):\n",
        "        super(CNN_XXS, self).__init__()\n",
        "        self.relu = nn.ReLU()\n",
        "        self.max_pool2d = nn.MaxPool2d(kernel_size=2, stride=2)\n",
        "        self.flatten = nn.Flatten()\n",
        "\n",
        "        self.conv_1 = nn.Conv2d(in_channels=3, out_channels=32, kernel_size=3, stride=1, padding=1)\n",
        "        self.batch_norm_1 = nn.BatchNorm2d(32)\n",
        "        self.dropout_1 = nn.Dropout(0.5)\n",
        "\n",
        "        self.linear_1 = nn.Linear(16 * 16 * 32, 64)\n",
        "        self.dropout_2 = nn.Dropout(0.25)\n",
        "        self.linear_2 = nn.Linear(64, K)\n",
        "\n",
        "    def forward(self, x):\n",
        "        x = self.relu(self.batch_norm_1(self.conv_1(x)))\n",
        "        x = self.dropout_1(x)\n",
        "        x = self.max_pool2d(x)\n",
        "\n",
        "        x = self.flatten(x)\n",
        "        x = self.relu(self.linear_1(x))\n",
        "        x = self.dropout_2(x)\n",
        "        x = self.linear_2(x)\n",
        "        return x"
      ]
    },
    {
      "cell_type": "code",
      "execution_count": null,
      "metadata": {},
      "outputs": [],
      "source": [
        "class CNN_XS(nn.Module):\n",
        "    def __init__(self):\n",
        "        super(CNN_XS, self).__init__()\n",
        "        self.relu = nn.ReLU()\n",
        "        self.max_pool2d = nn.MaxPool2d(kernel_size=2, stride=2)\n",
        "        self.flatten = nn.Flatten()\n",
        "\n",
        "        self.conv_1 = nn.Conv2d(in_channels=3, out_channels=32, kernel_size=3, stride=1, padding=1)\n",
        "        self.batch_norm_1 = nn.BatchNorm2d(32)\n",
        "        self.conv_2 = nn.Conv2d(in_channels=32, out_channels=32, kernel_size=3, stride=1, padding=1)\n",
        "        self.batch_norm_2 = nn.BatchNorm2d(32)\n",
        "        self.dropout_1 = nn.Dropout(0.5)\n",
        "\n",
        "        self.linear_1 = nn.Linear(8 * 8 * 32, 128)\n",
        "        self.dropout_2 = nn.Dropout(0.5)\n",
        "        self.linear_2 = nn.Linear(128, K)\n",
        "\n",
        "    def forward(self, x):\n",
        "        x = self.relu(self.batch_norm_1(self.conv_1(x)))\n",
        "        x = self.max_pool2d(x)\n",
        "        x = self.relu(self.batch_norm_2(self.conv_2(x)))\n",
        "        x = self.dropout_1(x)\n",
        "        x = self.max_pool2d(x)\n",
        "\n",
        "        x = self.flatten(x)\n",
        "        x = self.relu(self.linear_1(x))\n",
        "        x = self.dropout_2(x)\n",
        "        x = self.linear_2(x)\n",
        "        return x"
      ]
    },
    {
      "cell_type": "code",
      "execution_count": null,
      "metadata": {
        "id": "4CB0H8YxKTnl"
      },
      "outputs": [],
      "source": [
        "class CNN_S(nn.Module):\n",
        "    def __init__(self):\n",
        "        super(CNN_S, self).__init__()\n",
        "        self.relu = nn.ReLU()\n",
        "        self.max_pool2d = nn.MaxPool2d(kernel_size=2, stride=2)\n",
        "        self.flatten = nn.Flatten()\n",
        "\n",
        "        self.conv_1 = nn.Conv2d(in_channels=3, out_channels=32, kernel_size=3, stride=1, padding=1)\n",
        "        self.batch_norm_1 = nn.BatchNorm2d(32)\n",
        "        self.conv_2 = nn.Conv2d(in_channels=32, out_channels=32, kernel_size=3, stride=1, padding=1)\n",
        "        self.batch_norm_2 = nn.BatchNorm2d(32)\n",
        "        self.dropout_1 = nn.Dropout(0.5)\n",
        "\n",
        "        self.linear_1 = nn.Linear(16 * 16 * 32, 128)\n",
        "        self.dropout_2 = nn.Dropout(0.5)\n",
        "        self.linear_2 = nn.Linear(128, K)\n",
        "\n",
        "    def forward(self, x):\n",
        "        x = self.relu(self.batch_norm_1(self.conv_1(x)))\n",
        "        x = self.relu(self.batch_norm_2(self.conv_2(x)))\n",
        "        x = self.dropout_1(x)\n",
        "        x = self.max_pool2d(x)\n",
        "\n",
        "        x = self.flatten(x)\n",
        "        x = self.relu(self.linear_1(x))\n",
        "        x = self.dropout_2(x)\n",
        "        x = self.linear_2(x)\n",
        "        return x"
      ]
    },
    {
      "cell_type": "code",
      "execution_count": null,
      "metadata": {
        "id": "9KIeJoknkfhC"
      },
      "outputs": [],
      "source": [
        "class CNN_M(nn.Module):\n",
        "    def __init__(self):\n",
        "        super(CNN_M, self).__init__()\n",
        "        self.relu = nn.ReLU()\n",
        "        self.max_pool2d = nn.MaxPool2d(kernel_size=2, stride=2)\n",
        "        self.flatten = nn.Flatten()\n",
        "\n",
        "        self.conv_1 = nn.Conv2d(in_channels=3, out_channels=32, kernel_size=3, stride=1, padding=1)\n",
        "        self.batch_norm_1 = nn.BatchNorm2d(32)\n",
        "        self.conv_2 = nn.Conv2d(in_channels=32, out_channels=32, kernel_size=3, stride=1, padding=1)\n",
        "        self.batch_norm_2 = nn.BatchNorm2d(32)\n",
        "\n",
        "        self.conv_3 = nn.Conv2d(in_channels=32, out_channels=64, kernel_size=3, stride=1, padding=1)\n",
        "        self.batch_norm_3 = nn.BatchNorm2d(64)\n",
        "        self.conv_4 = nn.Conv2d(in_channels=64, out_channels=64, kernel_size=3, stride=1, padding=1)\n",
        "        self.batch_norm_4 = nn.BatchNorm2d(64)\n",
        "        self.dropout_1 = nn.Dropout(0.5)\n",
        "\n",
        "        self.linear_1 = nn.Linear(8 * 8 * 64, 128)\n",
        "        self.dropout_2 = nn.Dropout(0.5)\n",
        "        self.linear_2 = nn.Linear(128, K)\n",
        "\n",
        "    def forward(self, x):\n",
        "        x = self.relu(self.batch_norm_1(self.conv_1(x)))\n",
        "        x = self.relu(self.batch_norm_2(self.conv_2(x)))\n",
        "        x = self.max_pool2d(x)\n",
        "\n",
        "        x = self.relu(self.batch_norm_3(self.conv_3(x)))\n",
        "        x = self.relu(self.batch_norm_4(self.conv_4(x)))\n",
        "        x = self.dropout_1(x)\n",
        "        x = self.max_pool2d(x)\n",
        "\n",
        "        x = self.flatten(x)\n",
        "        x = self.relu(self.linear_1(x))\n",
        "        x = self.dropout_2(x)\n",
        "        x = self.linear_2(x)\n",
        "        return x"
      ]
    },
    {
      "cell_type": "markdown",
      "metadata": {
        "id": "jLYfefMU_GtW"
      },
      "source": [
        "# Training and Evaluation"
      ]
    },
    {
      "cell_type": "code",
      "execution_count": null,
      "metadata": {},
      "outputs": [],
      "source": [
        "print('========== Convolutional Neural Network (Extra Extra Small) ==========')\n",
        "train_loader, val_loader, test_loader = load_torch_data(X_train, y_train, X_test, y_test)\n",
        "model = train_model(CNN_XXS(), train_loader, val_loader, 10, 1e-3)\n",
        "(y_pred_cnn, y_label_cnn), _ = evaluate_model(model, test_loader)"
      ]
    },
    {
      "cell_type": "code",
      "execution_count": null,
      "metadata": {},
      "outputs": [],
      "source": [
        "cnn_reportdict, cnn_df = get_classification_report(y_label_cnn, y_pred_cnn, labels)\n",
        "generate_class_comparison(cnn_reportdict, 'f1-score', labels)"
      ]
    },
    {
      "cell_type": "code",
      "execution_count": null,
      "metadata": {},
      "outputs": [],
      "source": [
        "print('========== Convolutional Neural Network (Extra Small) ==========')\n",
        "train_loader, val_loader, test_loader = load_torch_data(X_train, y_train, X_test, y_test)\n",
        "model = train_model(CNN_XS(), train_loader, val_loader, 10, 1e-3)\n",
        "(y_pred_cnn, y_label_cnn), _ = evaluate_model(model, test_loader)"
      ]
    },
    {
      "cell_type": "code",
      "execution_count": null,
      "metadata": {},
      "outputs": [],
      "source": [
        "cnn_reportdict, cnn_df = get_classification_report(y_label_cnn, y_pred_cnn, labels)\n",
        "generate_class_comparison(cnn_reportdict, 'f1-score', labels)"
      ]
    },
    {
      "cell_type": "code",
      "execution_count": null,
      "metadata": {
        "id": "TW26cz3ipNWi"
      },
      "outputs": [],
      "source": [
        "print('========== Convolutional Neural Network (Small) ==========')\n",
        "train_loader, val_loader, test_loader = load_torch_data(X_train, y_train, X_test, y_test)\n",
        "model = train_model(CNN_S(), train_loader, val_loader, 10, 1e-3)\n",
        "(y_pred_cnn, y_label_cnn), _ = evaluate_model(model, test_loader)"
      ]
    },
    {
      "cell_type": "code",
      "execution_count": null,
      "metadata": {
        "id": "SxZxBp3VQTzF"
      },
      "outputs": [],
      "source": [
        "cnn_reportdict, cnn_df = get_classification_report(y_label_cnn, y_pred_cnn, labels)\n",
        "generate_class_comparison(cnn_reportdict, 'f1-score', labels)"
      ]
    },
    {
      "cell_type": "code",
      "execution_count": null,
      "metadata": {
        "id": "pi1HNotBkfhD"
      },
      "outputs": [],
      "source": [
        "print('========== Convolutional Neural Network (Medium) ==========')\n",
        "train_loader, val_loader, test_loader = load_torch_data(X_train, y_train, X_test, y_test)\n",
        "model = train_model(CNN_M(), train_loader, val_loader, 10, 1e-3)\n",
        "(y_pred_cnn, y_label_cnn), _ = evaluate_model(model, test_loader)"
      ]
    },
    {
      "cell_type": "code",
      "execution_count": null,
      "metadata": {},
      "outputs": [],
      "source": [
        "cnn_reportdict, cnn_df = get_classification_report(y_label_cnn, y_pred_cnn, labels)\n",
        "generate_class_comparison(cnn_reportdict, 'f1-score', labels)"
      ]
    }
  ],
  "metadata": {
    "accelerator": "GPU",
    "colab": {
      "include_colab_link": true,
      "private_outputs": true,
      "provenance": [],
      "toc_visible": true
    },
    "gpuClass": "standard",
    "kernelspec": {
      "display_name": "pytorch",
      "language": "python",
      "name": "python3"
    },
    "language_info": {
      "codemirror_mode": {
        "name": "ipython",
        "version": 3
      },
      "file_extension": ".py",
      "mimetype": "text/x-python",
      "name": "python",
      "nbconvert_exporter": "python",
      "pygments_lexer": "ipython3",
      "version": "3.8.13 | packaged by conda-forge | (default, Mar 25 2022, 06:05:16) \n[Clang 12.0.1 ]"
    },
    "vscode": {
      "interpreter": {
        "hash": "d53f40f7b23e64941bbbe7d59a7d348ea20d4e2d35ce7e2b267b19a1ca57345e"
      }
    }
  },
  "nbformat": 4,
  "nbformat_minor": 0
}
